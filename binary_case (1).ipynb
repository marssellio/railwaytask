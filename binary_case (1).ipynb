{
 "cells": [
  {
   "cell_type": "code",
   "execution_count": 82,
   "id": "154e24f1-4fea-4bf0-ae7f-7be6c36a778f",
   "metadata": {},
   "outputs": [],
   "source": [
    "import math\n",
    "import torch\n",
    "import torch.nn as nn\n",
    "import torch.nn.functional as F\n",
    "\n",
    "import pandas as pd\n",
    "import numpy as np\n",
    "\n",
    "import soundfile as sf\n",
    "import librosa"
   ]
  },
  {
   "cell_type": "code",
   "execution_count": 4,
   "id": "ba334994-92e5-4d3d-8e50-da628c231534",
   "metadata": {},
   "outputs": [],
   "source": [
    "from sklearn.model_selection import train_test_split\n",
    "from matplotlib import pyplot as plt\n",
    "from IPython.display import clear_output\n",
    "\n",
    "import matplotlib"
   ]
  },
  {
   "cell_type": "code",
   "execution_count": null,
   "id": "b61b56ea-a466-4347-b8e1-fa3db5671b2d",
   "metadata": {},
   "outputs": [],
   "source": []
  },
  {
   "cell_type": "code",
   "execution_count": null,
   "id": "bf4aa90b-b129-4550-8ae2-6c091322ee53",
   "metadata": {},
   "outputs": [],
   "source": []
  },
  {
   "cell_type": "code",
   "execution_count": 5,
   "id": "4bba547e-b32a-4473-9a31-444e48e52020",
   "metadata": {},
   "outputs": [
    {
     "name": "stderr",
     "output_type": "stream",
     "text": [
      "/home/temcher/.local/lib/python3.10/site-packages/openpyxl/worksheet/_reader.py:329: UserWarning: Unknown extension is not supported and will be removed\n",
      "  warn(msg)\n"
     ]
    }
   ],
   "source": [
    "df = pd.read_excel('ins.xlsx')\n",
    "df.rename(columns={\"Unnamed: 3\": \"beat_counter\", \"Unnamed: 4\": \"defect_counter\"}, inplace=True)\n",
    "df.beat_counter = df.beat_counter.fillna('1')\n",
    "df.defect_counter = df.defect_counter.fillna('1')"
   ]
  },
  {
   "cell_type": "code",
   "execution_count": 6,
   "id": "9bc36409-8392-475e-8523-dadd7bcb8397",
   "metadata": {},
   "outputs": [],
   "source": [
    "df.loc[(df.defect_counter =='?')|(df.defect_counter =='!'), 'defect_counter'] = '1' "
   ]
  },
  {
   "cell_type": "code",
   "execution_count": 7,
   "id": "bcedaaf1-6040-4cae-a3bf-1fae5dedb9ee",
   "metadata": {},
   "outputs": [
    {
     "data": {
      "text/plain": [
       "620320"
      ]
     },
     "execution_count": 7,
     "metadata": {},
     "output_type": "execute_result"
    }
   ],
   "source": [
    "df.loc[123, 'end'] = 620320\n",
    "df.loc[123, 'end']"
   ]
  },
  {
   "cell_type": "code",
   "execution_count": 8,
   "id": "67018a4b-aa09-4d08-a37d-469d62ae470d",
   "metadata": {},
   "outputs": [
    {
     "data": {
      "text/plain": [
       "3590000"
      ]
     },
     "execution_count": 8,
     "metadata": {},
     "output_type": "execute_result"
    }
   ],
   "source": [
    "df.loc[126, 'end'] = 3590000\n",
    "df.loc[126, 'end']"
   ]
  },
  {
   "cell_type": "code",
   "execution_count": 9,
   "id": "5c6609cf-ca38-4f9f-9676-69c08eed3dd8",
   "metadata": {},
   "outputs": [],
   "source": [
    "ind = df.loc[df.file == '00004-2022-08-02-07-43-27_channel_3.bin'].index[-1]\n",
    "df.loc[ind, 'file'] = '00004-2022-08-02-07-43-27_channel_10.bin'"
   ]
  },
  {
   "cell_type": "code",
   "execution_count": 10,
   "id": "4c528617-fd5c-41b8-8627-76bc77db6178",
   "metadata": {},
   "outputs": [],
   "source": [
    "df.file = df.file.apply(lambda x: x[6:])"
   ]
  },
  {
   "cell_type": "code",
   "execution_count": 11,
   "id": "9639d566-e9a5-4ac8-bf9d-ce60fb082612",
   "metadata": {},
   "outputs": [],
   "source": [
    "df.loc[df.file == '2022-08-02-07-43-27_channel_3.bin', 'file'] = '2022-08-02-07-43-27_channel_03.bin'"
   ]
  },
  {
   "cell_type": "code",
   "execution_count": null,
   "id": "9b1bcafa-e4ff-46a8-aebb-737b240f10d8",
   "metadata": {},
   "outputs": [],
   "source": []
  },
  {
   "cell_type": "code",
   "execution_count": 12,
   "id": "e8714262-e614-41d8-822c-177002c4b6a3",
   "metadata": {},
   "outputs": [
    {
     "data": {
      "text/plain": [
       "array(['1', 'несколько', 'пересекаются'], dtype=object)"
      ]
     },
     "execution_count": 12,
     "metadata": {},
     "output_type": "execute_result"
    }
   ],
   "source": [
    "df.defect_counter.unique()"
   ]
  },
  {
   "cell_type": "code",
   "execution_count": 13,
   "id": "7061967b-ef73-4c9a-80e2-d56a2fb842f2",
   "metadata": {},
   "outputs": [],
   "source": [
    "def construct_examples(audio_path, win_len = 2.56, hop_len = 1.0, sr = 112000):\n",
    "    \n",
    "    \"\"\"\n",
    "    Constructs audio examples of window len and step(hop_len)\n",
    "    \n",
    "    out:\n",
    "    a_ex [number of examples, len(window)]\n",
    "    win_ranges [number of examples, (start, end in seconds)]\n",
    "    \"\"\"\n",
    "    \n",
    "    win_len_t = win_len   \n",
    "    hop_len_t = hop_len\n",
    "    \n",
    "    audio = np.fromfile(audio_path, dtype='uint8')\n",
    "    \n",
    "    win_len = int(sr*win_len)   # длина окна в отсчетах\n",
    "    hop_len = int(sr*hop_len)   # длина шага в отсчетах\n",
    "    \n",
    "    no_of_hops = math.ceil((audio.shape[0] - win_len) / hop_len)  # количество окон\n",
    "    audio_padded = np.zeros((int(win_len + hop_len*no_of_hops), ))  # ширина окна + шаг*количество окон\n",
    "    audio_padded[0:audio.shape[0]] = audio\n",
    "    \n",
    "    # выдаем массив из окон win_len с шагом hop_len\n",
    "    a_ex = [audio_padded[i - win_len : i] for i in range(win_len, audio_padded.shape[0]+1, hop_len)]\n",
    "    # массив начало и концов отрезок в секундах\n",
    "    win_ranges = [((i - win_len)/sr, i/sr) for i in range(win_len, audio_padded.shape[0]+1, hop_len)]\n",
    "    \n",
    "    return a_ex, win_ranges\n"
   ]
  },
  {
   "cell_type": "code",
   "execution_count": null,
   "id": "3bdd8dba-d8ee-4731-88f8-3cac3129267c",
   "metadata": {},
   "outputs": [],
   "source": []
  },
  {
   "cell_type": "code",
   "execution_count": 14,
   "id": "c727e01a-609e-4142-b240-43cfa33dc96e",
   "metadata": {},
   "outputs": [],
   "source": [
    "def construct_labels(annotation_df, win_start, win_end, win_len, sr = 112000):\n",
    "    \n",
    "    \"\"\"\n",
    "    Calculates all events in that window\n",
    "    \n",
    "    in:\n",
    "    annotation_df - DataFrame of annotation of the audio -> pd.DataFrame\n",
    "    win_start - start of the window in seconds -> float\n",
    "    win_end - end of the window in seconds -> float\n",
    "    win_len - length of the window in seconds -> float\n",
    "    sr - sample rate -> int\n",
    "    \n",
    "    out:\n",
    "    labels -> list [number_events, 3(start, end, class)] in seconds\n",
    "    \"\"\"\n",
    "    \n",
    "    start = annotation_df.start/sr\n",
    "    end = annotation_df.end /sr\n",
    "    \n",
    "    ann = [i for i in zip(start,\n",
    "                          end,\n",
    "                          annotation_df.defect_counter\n",
    "                         )]\n",
    "    \n",
    "    curr_ann = []\n",
    "    for a in ann: \n",
    "        if a[1] > win_start and a[0] <= win_end:\n",
    "            curr_start = max(a[0] - win_start, 0.0)\n",
    "            curr_end = min(a[1] - win_start, win_len)\n",
    "            curr_ann.append([curr_start, curr_end, a[2]])\n",
    "            \n",
    "                   \n",
    "    if len(curr_ann) == 0:\n",
    "        curr_ann.append([0, win_len, '0'])\n",
    "        \n",
    "    #print(win_start, win_end, curr_ann)\n",
    "    \n",
    "    class_set = set([c[2] for c in curr_ann])\n",
    "    class_wise_events = {}  \n",
    "            \n",
    "    for c in list(class_set):\n",
    "        class_wise_events[c] = []  # создаем словарь с событиями\n",
    "        \n",
    "    for c in curr_ann:\n",
    "        class_wise_events[c[2]].append(c)  # добавляем в словарь события\n",
    "        \n",
    "    max_event_silence = 0.0\n",
    "    all_events = []\n",
    "\n",
    "    for k in list(class_wise_events.keys()):  # проходимся по ключам словаря  \n",
    "        curr_events = class_wise_events[k]  \n",
    "        count = 0\n",
    "\n",
    "        while count < len(curr_events) - 1:\n",
    "            if (curr_events[count][1] >= curr_events[count + 1][0]) or (curr_events[count + 1][0] - curr_events[count][1] <= max_event_silence):\n",
    "                curr_events[count][1] = max(curr_events[count + 1][1], curr_events[count][1])\n",
    "                del curr_events[count + 1]\n",
    "            else:\n",
    "                count += 1\n",
    "\n",
    "        all_events += curr_events\n",
    "    #print(all_events)\n",
    "\n",
    "    for i in range(len(all_events)):\n",
    "        all_events[i][0] = round(all_events[i][0], 3)\n",
    "        all_events[i][1] = round(all_events[i][1], 3)\n",
    "\n",
    "    all_events.sort(key=lambda x: x[0])\n",
    "\n",
    "    return all_events\n",
    "    "
   ]
  },
  {
   "cell_type": "code",
   "execution_count": null,
   "id": "37152c98-3362-40fc-af4c-4c271775efb0",
   "metadata": {},
   "outputs": [],
   "source": []
  },
  {
   "cell_type": "code",
   "execution_count": 31,
   "id": "5004f615-dd73-4ac4-9d65-96ffd5e5a697",
   "metadata": {},
   "outputs": [],
   "source": [
    "def get_universal_labels(events, class_dict, ex_length = 10.0, no_of_div = 32):\n",
    "    \n",
    "    \"\"\"\n",
    "    in:\n",
    "    events - list of events on window [number_events, (start, end, class)]\n",
    "    class_dict - dictionary of classes \n",
    "    ex_length - length of income window\n",
    "    no_of_div - number of parts devided window\n",
    "    \n",
    "    out:\n",
    "    labels - list[no_of_div,  number_classes*3]  (1, start, end) in seconds\n",
    "    \"\"\"\n",
    "    \n",
    "    win_length = ex_length/no_of_div    # длительность окна\n",
    "    #labels = np.zeros((no_of_div, len(class_dict.keys()) * 3))   # обозначаем таргет как (класс, старт, конец) и так для каждого класса\n",
    "    labels = np.zeros((no_of_div, len(set(class_dict.values()))*3))\n",
    "    #print(events)\n",
    "    #labels[:,:3] = [1, 0, 1]\n",
    "    \n",
    "    for e in events:\n",
    "        start_time = float(e[0])\n",
    "        stop_time = float(e[1])\n",
    "\n",
    "        start_bin = int(start_time // win_length)  # высчитываем корзину начала\n",
    "        stop_bin = int(stop_time // win_length)   # высчитываем корзину конца\n",
    "\n",
    "        start_time_2 = start_time - start_bin * win_length  # считаем начало в корзине начала\n",
    "        stop_time_2 = stop_time - stop_bin * win_length     # считаем начало в корзине конца\n",
    "\n",
    "        n_bins = stop_bin - start_bin\n",
    "\n",
    "        # заполняем таргет в котором первая координата корзины, вторая координата классы и начало/конец каждого класса\n",
    "\n",
    "        if n_bins == 0:\n",
    "            labels[start_bin, class_dict[e[2]] * 3:class_dict[e[2]] * 3 + 3] = [1, start_time_2, stop_time_2]    \n",
    "\n",
    "        elif n_bins == 1:\n",
    "            labels[start_bin, class_dict[e[2]] * 3:class_dict[e[2]] * 3 + 3] = [1, start_time_2, win_length]\n",
    "\n",
    "            if stop_time_2 > 0.0:\n",
    "                labels[stop_bin, class_dict[e[2]] * 3:class_dict[e[2]] * 3 + 3] = [1, 0.0, stop_time_2]\n",
    "\n",
    "        elif n_bins > 1:\n",
    "            labels[start_bin, class_dict[e[2]] * 3:class_dict[e[2]] * 3 + 3] = [1, start_time_2, win_length]\n",
    "\n",
    "            for i in range(1, n_bins):\n",
    "                labels[start_bin + i, class_dict[e[2]] * 3:class_dict[e[2]] * 3 + 3] = [1, 0.0, win_length]\n",
    "\n",
    "            if stop_time_2 > 0.0:\n",
    "                labels[stop_bin, class_dict[e[2]] * 3:class_dict[e[2]] * 3 + 3] = [1, 0.0, stop_time_2]\n",
    "\n",
    "                \n",
    "      # labels[:, [1, 2, 4, 5]] /= win_length\n",
    "\n",
    "      # далее нам необходимо отнормировать\n",
    "    for i in range(len(labels)):\n",
    "        for j in range(len(labels[i])):\n",
    "              if j % 3 != 0:\n",
    "                labels[i][j] /= win_length\n",
    "        \n",
    "    for row in labels:\n",
    "        if np.sum(row) == 0:\n",
    "            row[:3] += [1, 0, 1]\n",
    "       \n",
    "        \n",
    "    return labels"
   ]
  },
  {
   "cell_type": "code",
   "execution_count": null,
   "id": "2788f347-31b8-46cd-b6b6-759c2020a32e",
   "metadata": {},
   "outputs": [],
   "source": []
  },
  {
   "cell_type": "markdown",
   "id": "88b37511-db24-49c3-bbdb-a5c612ffa6bc",
   "metadata": {},
   "source": [
    "## Part1"
   ]
  },
  {
   "cell_type": "code",
   "execution_count": 32,
   "id": "174b87bd-d045-4f9d-921b-e894a64a27d0",
   "metadata": {},
   "outputs": [
    {
     "name": "stdout",
     "output_type": "stream",
     "text": [
      "['2022-06-29-14-06-50_channel_03.bin' '2022-06-29-14-06-50_channel_10.bin'\n",
      " '2022-06-30-07-20-57_channel_03.bin' '2022-06-30-07-20-57_channel_10.bin'\n",
      " '2022-07-05-02-55-46_channel_03.bin' '2022-07-05-02-55-46_channel_10.bin'\n",
      " '2022-07-05-03-20-09_channel_03.bin' '2022-07-05-03-20-09_channel_10.bin'\n",
      " '2022-07-11-03-39-40_channel_03.bin' '2022-07-11-03-39-40_channel_10.bin'\n",
      " '2022-07-15-09-08-02_channel_03.bin' '2022-07-15-09-08-02_channel_10.bin'\n",
      " '2022-08-02-05-50-40_channel_03.bin' '2022-08-02-05-50-40_channel_10.bin'\n",
      " '2022-08-02-07-07-49_channel_03.bin' '2022-08-02-07-07-49_channel_10.bin'\n",
      " '2022-08-02-07-43-27_channel_03.bin' '2022-08-02-07-43-27_channel_10.bin']\n"
     ]
    },
    {
     "data": {
      "text/plain": [
       "(['Marked data/00004-2022-06-29-14-06-50/00004-2022-06-29-14-06-50_channel_03.bin',\n",
       "  'Marked data/00004-2022-06-29-14-06-50/00004-2022-06-29-14-06-50_channel_10.bin',\n",
       "  'Marked data/00004-2022-06-30-07-20-57/00004-2022-06-30-07-20-57_channel_03.bin',\n",
       "  'Marked data/00004-2022-06-30-07-20-57/00004-2022-06-30-07-20-57_channel_10.bin',\n",
       "  'Marked data/00004-2022-07-05-02-55-46/00004-2022-07-05-02-55-46_channel_03.bin',\n",
       "  'Marked data/00004-2022-07-05-02-55-46/00004-2022-07-05-02-55-46_channel_10.bin',\n",
       "  'Marked data/00004-2022-07-05-03-20-09/00004-2022-07-05-03-20-09_channel_03.bin',\n",
       "  'Marked data/00004-2022-07-05-03-20-09/00004-2022-07-05-03-20-09_channel_10.bin',\n",
       "  'Marked data/00004-2022-07-11-03-39-40/00004-2022-07-11-03-39-40_channel_03.bin',\n",
       "  'Marked data/00004-2022-07-11-03-39-40/00004-2022-07-11-03-39-40_channel_10.bin',\n",
       "  'Marked data/00004-2022-07-15-09-08-02/00004-2022-07-15-09-08-02_channel_03.bin',\n",
       "  'Marked data/00004-2022-07-15-09-08-02/00004-2022-07-15-09-08-02_channel_10.bin',\n",
       "  'Marked data/00004-2022-08-02-05-50-40/00004-2022-08-02-05-50-40_channel_03.bin',\n",
       "  'Marked data/00004-2022-08-02-05-50-40/00004-2022-08-02-05-50-40_channel_10.bin',\n",
       "  'Marked data/00004-2022-08-02-07-07-49/00004-2022-08-02-07-07-49_channel_03.bin',\n",
       "  'Marked data/00004-2022-08-02-07-07-49/00004-2022-08-02-07-07-49_channel_10.bin',\n",
       "  'Marked data/00004-2022-08-02-07-43-27/00004-2022-08-02-07-43-27_channel_03.bin',\n",
       "  'Marked data/00004-2022-08-02-07-43-27/00004-2022-08-02-07-43-27_channel_10.bin'],\n",
       " 18,\n",
       " 18)"
      ]
     },
     "execution_count": 32,
     "metadata": {},
     "output_type": "execute_result"
    }
   ],
   "source": [
    "all_files = df.file.unique()\n",
    "print(all_files)\n",
    "folder_path = 'Marked data/'\n",
    "prefix = '00004-'\n",
    "all_files = [folder_path+prefix+file[:-15]+'/'+prefix+file for file in all_files]\n",
    "all_files, len(all_files), len('Marked data/00004-')"
   ]
  },
  {
   "cell_type": "code",
   "execution_count": null,
   "id": "c9aaf223-4d22-4b5c-aa6e-34aa477b3dda",
   "metadata": {},
   "outputs": [],
   "source": []
  },
  {
   "cell_type": "code",
   "execution_count": 33,
   "id": "de42dd0c-6f0e-47e0-9361-05e625bdb10c",
   "metadata": {},
   "outputs": [
    {
     "data": {
      "text/html": [
       "<div>\n",
       "<style scoped>\n",
       "    .dataframe tbody tr th:only-of-type {\n",
       "        vertical-align: middle;\n",
       "    }\n",
       "\n",
       "    .dataframe tbody tr th {\n",
       "        vertical-align: top;\n",
       "    }\n",
       "\n",
       "    .dataframe thead th {\n",
       "        text-align: right;\n",
       "    }\n",
       "</style>\n",
       "<table border=\"1\" class=\"dataframe\">\n",
       "  <thead>\n",
       "    <tr style=\"text-align: right;\">\n",
       "      <th></th>\n",
       "      <th>file</th>\n",
       "      <th>start</th>\n",
       "      <th>end</th>\n",
       "      <th>beat_counter</th>\n",
       "      <th>defect_counter</th>\n",
       "    </tr>\n",
       "  </thead>\n",
       "  <tbody>\n",
       "    <tr>\n",
       "      <th>0</th>\n",
       "      <td>2022-06-29-14-06-50_channel_03.bin</td>\n",
       "      <td>1720983</td>\n",
       "      <td>1766336</td>\n",
       "      <td>1</td>\n",
       "      <td>1</td>\n",
       "    </tr>\n",
       "    <tr>\n",
       "      <th>1</th>\n",
       "      <td>2022-06-29-14-06-50_channel_03.bin</td>\n",
       "      <td>1346471</td>\n",
       "      <td>1390816</td>\n",
       "      <td>1</td>\n",
       "      <td>1</td>\n",
       "    </tr>\n",
       "    <tr>\n",
       "      <th>2</th>\n",
       "      <td>2022-06-29-14-06-50_channel_03.bin</td>\n",
       "      <td>3163803</td>\n",
       "      <td>3205729</td>\n",
       "      <td>1</td>\n",
       "      <td>1</td>\n",
       "    </tr>\n",
       "    <tr>\n",
       "      <th>3</th>\n",
       "      <td>2022-06-29-14-06-50_channel_10.bin</td>\n",
       "      <td>3215001</td>\n",
       "      <td>3254508</td>\n",
       "      <td>1</td>\n",
       "      <td>1</td>\n",
       "    </tr>\n",
       "    <tr>\n",
       "      <th>4</th>\n",
       "      <td>2022-06-29-14-06-50_channel_10.bin</td>\n",
       "      <td>2297869</td>\n",
       "      <td>2338183</td>\n",
       "      <td>1</td>\n",
       "      <td>1</td>\n",
       "    </tr>\n",
       "    <tr>\n",
       "      <th>...</th>\n",
       "      <td>...</td>\n",
       "      <td>...</td>\n",
       "      <td>...</td>\n",
       "      <td>...</td>\n",
       "      <td>...</td>\n",
       "    </tr>\n",
       "    <tr>\n",
       "      <th>125</th>\n",
       "      <td>2022-08-02-07-43-27_channel_10.bin</td>\n",
       "      <td>2119650</td>\n",
       "      <td>2184099</td>\n",
       "      <td>4.0</td>\n",
       "      <td>1</td>\n",
       "    </tr>\n",
       "    <tr>\n",
       "      <th>126</th>\n",
       "      <td>2022-08-02-07-43-27_channel_10.bin</td>\n",
       "      <td>3522500</td>\n",
       "      <td>3590000</td>\n",
       "      <td>3.0</td>\n",
       "      <td>1</td>\n",
       "    </tr>\n",
       "    <tr>\n",
       "      <th>127</th>\n",
       "      <td>2022-08-02-07-43-27_channel_10.bin</td>\n",
       "      <td>4056625</td>\n",
       "      <td>4208831</td>\n",
       "      <td>7.0</td>\n",
       "      <td>несколько</td>\n",
       "    </tr>\n",
       "    <tr>\n",
       "      <th>128</th>\n",
       "      <td>2022-08-02-07-43-27_channel_10.bin</td>\n",
       "      <td>4699007</td>\n",
       "      <td>4748151</td>\n",
       "      <td>6.0</td>\n",
       "      <td>1</td>\n",
       "    </tr>\n",
       "    <tr>\n",
       "      <th>129</th>\n",
       "      <td>2022-08-02-07-43-27_channel_10.bin</td>\n",
       "      <td>5227796</td>\n",
       "      <td>5315413</td>\n",
       "      <td>4.0</td>\n",
       "      <td>1</td>\n",
       "    </tr>\n",
       "  </tbody>\n",
       "</table>\n",
       "<p>130 rows × 5 columns</p>\n",
       "</div>"
      ],
      "text/plain": [
       "                                   file    start      end beat_counter  \\\n",
       "0    2022-06-29-14-06-50_channel_03.bin  1720983  1766336            1   \n",
       "1    2022-06-29-14-06-50_channel_03.bin  1346471  1390816            1   \n",
       "2    2022-06-29-14-06-50_channel_03.bin  3163803  3205729            1   \n",
       "3    2022-06-29-14-06-50_channel_10.bin  3215001  3254508            1   \n",
       "4    2022-06-29-14-06-50_channel_10.bin  2297869  2338183            1   \n",
       "..                                  ...      ...      ...          ...   \n",
       "125  2022-08-02-07-43-27_channel_10.bin  2119650  2184099          4.0   \n",
       "126  2022-08-02-07-43-27_channel_10.bin  3522500  3590000          3.0   \n",
       "127  2022-08-02-07-43-27_channel_10.bin  4056625  4208831          7.0   \n",
       "128  2022-08-02-07-43-27_channel_10.bin  4699007  4748151          6.0   \n",
       "129  2022-08-02-07-43-27_channel_10.bin  5227796  5315413          4.0   \n",
       "\n",
       "    defect_counter  \n",
       "0                1  \n",
       "1                1  \n",
       "2                1  \n",
       "3                1  \n",
       "4                1  \n",
       "..             ...  \n",
       "125              1  \n",
       "126              1  \n",
       "127      несколько  \n",
       "128              1  \n",
       "129              1  \n",
       "\n",
       "[130 rows x 5 columns]"
      ]
     },
     "execution_count": 33,
     "metadata": {},
     "output_type": "execute_result"
    }
   ],
   "source": [
    "df"
   ]
  },
  {
   "cell_type": "code",
   "execution_count": 34,
   "id": "13c1dfb5-31d4-4bd4-9954-6f77fc3b4585",
   "metadata": {},
   "outputs": [
    {
     "data": {
      "text/html": [
       "<div>\n",
       "<style scoped>\n",
       "    .dataframe tbody tr th:only-of-type {\n",
       "        vertical-align: middle;\n",
       "    }\n",
       "\n",
       "    .dataframe tbody tr th {\n",
       "        vertical-align: top;\n",
       "    }\n",
       "\n",
       "    .dataframe thead th {\n",
       "        text-align: right;\n",
       "    }\n",
       "</style>\n",
       "<table border=\"1\" class=\"dataframe\">\n",
       "  <thead>\n",
       "    <tr style=\"text-align: right;\">\n",
       "      <th></th>\n",
       "      <th>file</th>\n",
       "      <th>start</th>\n",
       "      <th>end</th>\n",
       "      <th>beat_counter</th>\n",
       "      <th>defect_counter</th>\n",
       "    </tr>\n",
       "  </thead>\n",
       "  <tbody>\n",
       "    <tr>\n",
       "      <th>0</th>\n",
       "      <td>2022-06-29-14-06-50_channel_03.bin</td>\n",
       "      <td>1720983</td>\n",
       "      <td>1766336</td>\n",
       "      <td>1</td>\n",
       "      <td>1</td>\n",
       "    </tr>\n",
       "    <tr>\n",
       "      <th>1</th>\n",
       "      <td>2022-06-29-14-06-50_channel_03.bin</td>\n",
       "      <td>1346471</td>\n",
       "      <td>1390816</td>\n",
       "      <td>1</td>\n",
       "      <td>1</td>\n",
       "    </tr>\n",
       "    <tr>\n",
       "      <th>2</th>\n",
       "      <td>2022-06-29-14-06-50_channel_03.bin</td>\n",
       "      <td>3163803</td>\n",
       "      <td>3205729</td>\n",
       "      <td>1</td>\n",
       "      <td>1</td>\n",
       "    </tr>\n",
       "  </tbody>\n",
       "</table>\n",
       "</div>"
      ],
      "text/plain": [
       "                                 file    start      end beat_counter  \\\n",
       "0  2022-06-29-14-06-50_channel_03.bin  1720983  1766336            1   \n",
       "1  2022-06-29-14-06-50_channel_03.bin  1346471  1390816            1   \n",
       "2  2022-06-29-14-06-50_channel_03.bin  3163803  3205729            1   \n",
       "\n",
       "  defect_counter  \n",
       "0              1  \n",
       "1              1  \n",
       "2              1  "
      ]
     },
     "execution_count": 34,
     "metadata": {},
     "output_type": "execute_result"
    }
   ],
   "source": [
    "df.loc[df.file == all_files[0][-34:]]"
   ]
  },
  {
   "cell_type": "code",
   "execution_count": 35,
   "id": "46e71176-d875-4dd1-b908-07ba4ac13dd7",
   "metadata": {},
   "outputs": [
    {
     "data": {
      "text/plain": [
       "'2022-06-29-14-06-50/00004-2022-06-29-14-06-50_channel_03.bin'"
      ]
     },
     "execution_count": 35,
     "metadata": {},
     "output_type": "execute_result"
    }
   ],
   "source": [
    "all_files[0][18:]"
   ]
  },
  {
   "cell_type": "code",
   "execution_count": null,
   "id": "28f33d5b-49ac-48b9-b6ac-c44182be723d",
   "metadata": {},
   "outputs": [],
   "source": []
  },
  {
   "cell_type": "code",
   "execution_count": null,
   "id": "b767baff-8930-46af-9d20-260db9cf8b19",
   "metadata": {},
   "outputs": [],
   "source": []
  },
  {
   "cell_type": "code",
   "execution_count": null,
   "id": "ff2c28b8-b6b2-460d-b643-7586072632de",
   "metadata": {},
   "outputs": [],
   "source": []
  },
  {
   "cell_type": "code",
   "execution_count": null,
   "id": "ac75a929-eba3-4e28-9236-f6bf50ede90d",
   "metadata": {},
   "outputs": [],
   "source": []
  },
  {
   "cell_type": "code",
   "execution_count": 36,
   "id": "23f596a3-56b0-4d09-ba48-582cbc555aed",
   "metadata": {},
   "outputs": [],
   "source": [
    "binary_class_dict = {'0': 0, \n",
    "                    '1': 1,\n",
    "                    'несколько': 1,\n",
    "                    'пересекаются': 1}"
   ]
  },
  {
   "cell_type": "code",
   "execution_count": 37,
   "id": "ace36f99-fcb0-4444-a05a-3448693761f1",
   "metadata": {},
   "outputs": [],
   "source": [
    "###binary_class_dict = {'0': 0}"
   ]
  },
  {
   "cell_type": "code",
   "execution_count": 38,
   "id": "36364d08-2875-4f72-b833-e00bf29e911d",
   "metadata": {},
   "outputs": [],
   "source": [
    "#annotation"
   ]
  },
  {
   "cell_type": "code",
   "execution_count": 39,
   "id": "419132f1-adc4-46ba-ba5a-177db262474a",
   "metadata": {
    "tags": []
   },
   "outputs": [],
   "source": [
    "win_len = 2.56\n",
    "hop_len = 1.0\n",
    "a_new_ex_train = []\n",
    "a_new_labels_train = []\n",
    "\n",
    "for i, audio in enumerate(all_files):\n",
    "    annotation_df = df.loc[df.file == audio[-34:]]\n",
    "    \n",
    "    a, win_ranges = construct_examples(audio, win_len=win_len, hop_len=hop_len) # возвращаем массив окон для ффт и отрезки в секундах\n",
    "    a_new_ex_train += a   # добавляем отрезки в массив\n",
    "    \n",
    "    for w in win_ranges:\n",
    "        # для каждого отрезка пишем события, которые попали в отрезок\n",
    "        labels_t = construct_labels(annotation_df, w[0], w[1], win_len=win_len)\n",
    "        ll = get_universal_labels(labels_t, binary_class_dict, ex_length=win_len, no_of_div = 9)\n",
    "        # потом отрезок делим на бины и записываем какие события попали в бины\n",
    "        # ll = to_seg_by_class(labels_t, class_dict)\n",
    "        a_new_labels_train.append(ll)"
   ]
  },
  {
   "cell_type": "code",
   "execution_count": null,
   "id": "a47471b0-f62f-4bb3-b072-90b6d9d447d0",
   "metadata": {},
   "outputs": [],
   "source": []
  },
  {
   "cell_type": "code",
   "execution_count": null,
   "id": "457235fc-1fb1-4531-8ddb-67d9f58a612a",
   "metadata": {},
   "outputs": [],
   "source": []
  },
  {
   "cell_type": "code",
   "execution_count": 40,
   "id": "a779dc1f-4a8b-40d4-9974-2d1d79048ed9",
   "metadata": {},
   "outputs": [
    {
     "data": {
      "text/plain": [
       "(936, 9, 6)"
      ]
     },
     "execution_count": 40,
     "metadata": {},
     "output_type": "execute_result"
    }
   ],
   "source": [
    "np.array(a_new_labels_train).shape"
   ]
  },
  {
   "cell_type": "code",
   "execution_count": 41,
   "id": "af82551d-16dd-42d2-8814-3c07a4e867b8",
   "metadata": {},
   "outputs": [
    {
     "data": {
      "text/plain": [
       "1856.351171875"
      ]
     },
     "execution_count": 41,
     "metadata": {},
     "output_type": "execute_result"
    }
   ],
   "source": [
    "np.sum(np.array(a_new_labels_train)[:,:,3:])"
   ]
  },
  {
   "cell_type": "code",
   "execution_count": null,
   "id": "9730b0ef-b249-4ce7-981f-7655f6b7afe6",
   "metadata": {},
   "outputs": [],
   "source": []
  },
  {
   "cell_type": "markdown",
   "id": "1796ffb2-d22b-4113-ae0d-86068ff7949c",
   "metadata": {},
   "source": [
    "## Part2"
   ]
  },
  {
   "cell_type": "code",
   "execution_count": 42,
   "id": "4e70ca86-a29f-4840-a628-2a0658ad2bae",
   "metadata": {},
   "outputs": [],
   "source": [
    "df1 = pd.read_excel('Marked data/part2/ins.xlsx')"
   ]
  },
  {
   "cell_type": "code",
   "execution_count": 43,
   "id": "47b48d99-e153-4c18-add5-099dfe3f0a70",
   "metadata": {},
   "outputs": [
    {
     "data": {
      "text/plain": [
       "array(['00004-2023-02-22-03-31-36/channel_02.bin',\n",
       "       '00004-2023-02-22-03-31-36/channel_03.bin',\n",
       "       '00004-2023-02-22-03-31-36/channel_10.bin',\n",
       "       '00004-2023-02-22-03-47-14/channel_02.bin',\n",
       "       '00004-2023-02-22-03-47-14/channel_03.bin',\n",
       "       '00004-2023-02-22-03-47-14/channel_10.bin',\n",
       "       '00004-2023-02-22-04-53-00/channel_02.bin',\n",
       "       '00004-2023-02-22-04-53-00/channel_03.bin',\n",
       "       '00004-2023-02-22-04-53-00/channel_04.bin',\n",
       "       '00004-2023-02-22-04-53-00/channel_10.bin'], dtype=object)"
      ]
     },
     "execution_count": 43,
     "metadata": {},
     "output_type": "execute_result"
    }
   ],
   "source": [
    "df1.file.unique()"
   ]
  },
  {
   "cell_type": "code",
   "execution_count": 44,
   "id": "e302caf4-06a8-4eb8-a755-fa2f9e37ce26",
   "metadata": {},
   "outputs": [
    {
     "name": "stdout",
     "output_type": "stream",
     "text": [
      "['00004-2023-02-22-03-31-36/channel_02.bin'\n",
      " '00004-2023-02-22-03-31-36/channel_03.bin'\n",
      " '00004-2023-02-22-03-31-36/channel_10.bin'\n",
      " '00004-2023-02-22-03-47-14/channel_02.bin'\n",
      " '00004-2023-02-22-03-47-14/channel_03.bin'\n",
      " '00004-2023-02-22-03-47-14/channel_10.bin'\n",
      " '00004-2023-02-22-04-53-00/channel_02.bin'\n",
      " '00004-2023-02-22-04-53-00/channel_03.bin'\n",
      " '00004-2023-02-22-04-53-00/channel_04.bin'\n",
      " '00004-2023-02-22-04-53-00/channel_10.bin']\n"
     ]
    },
    {
     "data": {
      "text/plain": [
       "(['Marked data/part2/00004-2023-02-22-03-31-36/channel_02.bin',\n",
       "  'Marked data/part2/00004-2023-02-22-03-31-36/channel_03.bin',\n",
       "  'Marked data/part2/00004-2023-02-22-03-31-36/channel_10.bin',\n",
       "  'Marked data/part2/00004-2023-02-22-03-47-14/channel_02.bin',\n",
       "  'Marked data/part2/00004-2023-02-22-03-47-14/channel_03.bin',\n",
       "  'Marked data/part2/00004-2023-02-22-03-47-14/channel_10.bin',\n",
       "  'Marked data/part2/00004-2023-02-22-04-53-00/channel_02.bin',\n",
       "  'Marked data/part2/00004-2023-02-22-04-53-00/channel_03.bin',\n",
       "  'Marked data/part2/00004-2023-02-22-04-53-00/channel_04.bin',\n",
       "  'Marked data/part2/00004-2023-02-22-04-53-00/channel_10.bin'],\n",
       " 10,\n",
       " 18)"
      ]
     },
     "execution_count": 44,
     "metadata": {},
     "output_type": "execute_result"
    }
   ],
   "source": [
    "all_files = df1.file.unique()\n",
    "print(all_files)\n",
    "folder_path = 'Marked data/part2/'\n",
    "#prefix = '00004-'\n",
    "all_files = [folder_path+file for file in all_files]\n",
    "all_files, len(all_files), len('Marked data/00004-')"
   ]
  },
  {
   "cell_type": "code",
   "execution_count": 45,
   "id": "febd6a57-bb34-4f40-8a76-ab356d4cc7cc",
   "metadata": {},
   "outputs": [],
   "source": [
    "df1.loc[66, ['start', 'end']] = [503484, 755824]"
   ]
  },
  {
   "cell_type": "code",
   "execution_count": 46,
   "id": "2f2e9291-aa2d-4c3d-a235-cb9ff023287b",
   "metadata": {},
   "outputs": [],
   "source": [
    "df1.rename(columns={\"Сколько импульсов\": \"beat_counter\", \"Сколько дефектов\": \"defect_counter\"}, inplace=True)"
   ]
  },
  {
   "cell_type": "code",
   "execution_count": 47,
   "id": "14b37363-01c2-47a1-9050-4ea23fe77c87",
   "metadata": {},
   "outputs": [],
   "source": [
    "df1.defect_counter = df1.defect_counter.astype('str')"
   ]
  },
  {
   "cell_type": "code",
   "execution_count": null,
   "id": "f100c9cf-0252-431d-8a7f-85e3ba338d04",
   "metadata": {},
   "outputs": [],
   "source": []
  },
  {
   "cell_type": "code",
   "execution_count": 48,
   "id": "edc542a6-fdd5-4587-9158-c14133c17d12",
   "metadata": {},
   "outputs": [
    {
     "data": {
      "text/plain": [
       "array(['1', 'пересекаются', '2', 'несколько'], dtype=object)"
      ]
     },
     "execution_count": 48,
     "metadata": {},
     "output_type": "execute_result"
    }
   ],
   "source": [
    "df1.defect_counter.unique()"
   ]
  },
  {
   "cell_type": "code",
   "execution_count": null,
   "id": "56e746bd-c7ef-4004-90d9-675973725447",
   "metadata": {},
   "outputs": [],
   "source": []
  },
  {
   "cell_type": "code",
   "execution_count": 49,
   "id": "f6bd1572-dcee-4660-8c10-47a7fec624a1",
   "metadata": {},
   "outputs": [],
   "source": [
    "binary_class_dict ['2'] = 1"
   ]
  },
  {
   "cell_type": "code",
   "execution_count": 50,
   "id": "bbbac6f7-34ae-4634-8614-bd21682a2c47",
   "metadata": {},
   "outputs": [
    {
     "data": {
      "text/plain": [
       "{'0': 0, '1': 1, 'несколько': 1, 'пересекаются': 1, '2': 1}"
      ]
     },
     "execution_count": 50,
     "metadata": {},
     "output_type": "execute_result"
    }
   ],
   "source": [
    "binary_class_dict"
   ]
  },
  {
   "cell_type": "code",
   "execution_count": 51,
   "id": "f8f938fb-c22e-47fc-af89-5a3117400d26",
   "metadata": {
    "tags": []
   },
   "outputs": [],
   "source": [
    "for i, audio in enumerate(all_files):\n",
    "    annotation_df = df1.loc[df1.file == audio[len(folder_path):]]\n",
    "    \n",
    "    a, win_ranges = construct_examples(audio, win_len=win_len, hop_len=hop_len) # возвращаем массив окон для ффт и отрезки в секундах\n",
    "    a_new_ex_train += a   # добавляем отрезки в массив\n",
    "    \n",
    "    for w in win_ranges:\n",
    "        # для каждого отрезка пишем события, которые попали в отрезок\n",
    "        labels_t = construct_labels(annotation_df, w[0], w[1], win_len=win_len)\n",
    "        ll = get_universal_labels(labels_t, binary_class_dict, ex_length=win_len, no_of_div = 9)\n",
    "        # потом отрезок делим на бины и записываем какие события попали в бины\n",
    "        # ll = to_seg_by_class(labels_t, class_dict)\n",
    "        a_new_labels_train.append(ll)"
   ]
  },
  {
   "cell_type": "code",
   "execution_count": null,
   "id": "dcc20fa8-d56e-464b-ac2d-7aa44bfe19bc",
   "metadata": {},
   "outputs": [],
   "source": []
  },
  {
   "cell_type": "code",
   "execution_count": null,
   "id": "13618abc-e394-4416-8e71-9f13e4d60708",
   "metadata": {},
   "outputs": [],
   "source": []
  },
  {
   "cell_type": "code",
   "execution_count": null,
   "id": "a42a2e2f-8299-430d-8a20-7f7a48c839fb",
   "metadata": {},
   "outputs": [],
   "source": []
  },
  {
   "cell_type": "code",
   "execution_count": 52,
   "id": "1bf81297-3789-4c8d-8553-bbd90c6975ee",
   "metadata": {},
   "outputs": [
    {
     "data": {
      "text/html": [
       "<div>\n",
       "<style scoped>\n",
       "    .dataframe tbody tr th:only-of-type {\n",
       "        vertical-align: middle;\n",
       "    }\n",
       "\n",
       "    .dataframe tbody tr th {\n",
       "        vertical-align: top;\n",
       "    }\n",
       "\n",
       "    .dataframe thead th {\n",
       "        text-align: right;\n",
       "    }\n",
       "</style>\n",
       "<table border=\"1\" class=\"dataframe\">\n",
       "  <thead>\n",
       "    <tr style=\"text-align: right;\">\n",
       "      <th></th>\n",
       "      <th>file</th>\n",
       "      <th>start</th>\n",
       "      <th>end</th>\n",
       "      <th>beat_counter</th>\n",
       "      <th>defect_counter</th>\n",
       "    </tr>\n",
       "  </thead>\n",
       "  <tbody>\n",
       "  </tbody>\n",
       "</table>\n",
       "</div>"
      ],
      "text/plain": [
       "Empty DataFrame\n",
       "Columns: [file, start, end, beat_counter, defect_counter]\n",
       "Index: []"
      ]
     },
     "execution_count": 52,
     "metadata": {},
     "output_type": "execute_result"
    }
   ],
   "source": [
    "df1.loc[df1.file == audio[-42:]]"
   ]
  },
  {
   "cell_type": "code",
   "execution_count": null,
   "id": "c1c8f4d7-24a7-4a03-874b-9e4c04984c07",
   "metadata": {},
   "outputs": [],
   "source": []
  },
  {
   "cell_type": "code",
   "execution_count": null,
   "id": "047bbbb2-f473-40d6-888a-115a1be0e1e0",
   "metadata": {},
   "outputs": [],
   "source": []
  },
  {
   "cell_type": "code",
   "execution_count": null,
   "id": "d10d0e4a-a68b-4adb-a460-819b0033cfce",
   "metadata": {},
   "outputs": [],
   "source": []
  },
  {
   "cell_type": "code",
   "execution_count": 53,
   "id": "a7e53052-d874-4628-afa2-3b92dd014ebb",
   "metadata": {},
   "outputs": [
    {
     "data": {
      "text/plain": [
       "array(['00004-2023-02-22-03-31-36/channel_02.bin',\n",
       "       '00004-2023-02-22-03-31-36/channel_03.bin',\n",
       "       '00004-2023-02-22-03-31-36/channel_10.bin',\n",
       "       '00004-2023-02-22-03-47-14/channel_02.bin',\n",
       "       '00004-2023-02-22-03-47-14/channel_03.bin',\n",
       "       '00004-2023-02-22-03-47-14/channel_10.bin',\n",
       "       '00004-2023-02-22-04-53-00/channel_02.bin',\n",
       "       '00004-2023-02-22-04-53-00/channel_03.bin',\n",
       "       '00004-2023-02-22-04-53-00/channel_04.bin',\n",
       "       '00004-2023-02-22-04-53-00/channel_10.bin'], dtype=object)"
      ]
     },
     "execution_count": 53,
     "metadata": {},
     "output_type": "execute_result"
    }
   ],
   "source": [
    "df1.file.unique()"
   ]
  },
  {
   "cell_type": "code",
   "execution_count": 54,
   "id": "98420b76-84ef-4efc-88ca-d97ca3c49245",
   "metadata": {},
   "outputs": [
    {
     "data": {
      "text/plain": [
       "'Marked data/part2/00004-2023-02-22-04-53-00/channel_10.bin'"
      ]
     },
     "execution_count": 54,
     "metadata": {},
     "output_type": "execute_result"
    }
   ],
   "source": [
    "all_files[-1]"
   ]
  },
  {
   "cell_type": "code",
   "execution_count": null,
   "id": "9a2f4a07-dadc-436c-8044-97fd1376703d",
   "metadata": {},
   "outputs": [],
   "source": []
  },
  {
   "cell_type": "code",
   "execution_count": 55,
   "id": "19524da9-37e2-4f10-873c-11700e2102b7",
   "metadata": {},
   "outputs": [
    {
     "data": {
      "text/plain": [
       "40"
      ]
     },
     "execution_count": 55,
     "metadata": {},
     "output_type": "execute_result"
    }
   ],
   "source": [
    "len('00004-2022-08-02-07-43-27_channel_10.bin')"
   ]
  },
  {
   "cell_type": "code",
   "execution_count": 56,
   "id": "ec4254b2-3228-4a55-91b6-8877b4a993a5",
   "metadata": {},
   "outputs": [
    {
     "data": {
      "text/plain": [
       "(1580, 9, 6)"
      ]
     },
     "execution_count": 56,
     "metadata": {},
     "output_type": "execute_result"
    }
   ],
   "source": [
    "np.array(a_new_labels_train).shape"
   ]
  },
  {
   "cell_type": "code",
   "execution_count": 57,
   "id": "3084af10-2278-4e1d-8c76-5e7a6081ecab",
   "metadata": {},
   "outputs": [
    {
     "data": {
      "text/plain": [
       "(1580, 286720)"
      ]
     },
     "execution_count": 57,
     "metadata": {},
     "output_type": "execute_result"
    }
   ],
   "source": [
    "np.array(a_new_ex_train).shape"
   ]
  },
  {
   "cell_type": "code",
   "execution_count": 58,
   "id": "50e74d04-93e6-4339-9641-8e57db8be9e7",
   "metadata": {},
   "outputs": [
    {
     "data": {
      "text/plain": [
       "2948.19453125"
      ]
     },
     "execution_count": 58,
     "metadata": {},
     "output_type": "execute_result"
    }
   ],
   "source": [
    "np.sum(np.array(a_new_labels_train)[:,:,3:])"
   ]
  },
  {
   "cell_type": "code",
   "execution_count": 130,
   "id": "dbb764bd-da98-4b5d-9c19-c4d6a42f94f2",
   "metadata": {},
   "outputs": [
    {
     "data": {
      "text/plain": [
       "'cpu'"
      ]
     },
     "execution_count": 130,
     "metadata": {},
     "output_type": "execute_result"
    }
   ],
   "source": [
    "device = 'cuda' if torch.cuda.is_available() else 'cpu'\n",
    "device"
   ]
  },
  {
   "cell_type": "markdown",
   "id": "d0b56f59-ff5b-4e78-b282-14edf247d8bd",
   "metadata": {},
   "source": [
    "## Create custom data"
   ]
  },
  {
   "cell_type": "markdown",
   "id": "7acf245c-e89a-4f15-9d42-b510572b8770",
   "metadata": {},
   "source": [
    "get rid of null samples below"
   ]
  },
  {
   "cell_type": "code",
   "execution_count": 93,
   "id": "650f0a02-80b0-48de-a0e6-2d80c3cbe1cd",
   "metadata": {},
   "outputs": [
    {
     "data": {
      "text/plain": [
       "511"
      ]
     },
     "execution_count": 93,
     "metadata": {},
     "output_type": "execute_result"
    }
   ],
   "source": [
    "not_null_indexes = []\n",
    "for i, label in enumerate(a_new_labels_train):\n",
    "    if np.sum(label[:, 3:]) != 0:\n",
    "        not_null_indexes.append(i)\n",
    "    \n",
    "len(not_null_indexes)"
   ]
  },
  {
   "cell_type": "code",
   "execution_count": 95,
   "id": "60c523c7-89b5-4a02-9f95-440bcb23ca7b",
   "metadata": {},
   "outputs": [],
   "source": [
    "train_samples = np.array(a_new_ex_train)[not_null_indexes]\n",
    "train_labels  = np.array(a_new_labels_train)[not_null_indexes]"
   ]
  },
  {
   "cell_type": "code",
   "execution_count": 96,
   "id": "4f9d638c-cf42-4d15-ad00-d4596774412f",
   "metadata": {},
   "outputs": [
    {
     "data": {
      "text/plain": [
       "(511, 9, 6)"
      ]
     },
     "execution_count": 96,
     "metadata": {},
     "output_type": "execute_result"
    }
   ],
   "source": [
    "train_labels.shape"
   ]
  },
  {
   "cell_type": "code",
   "execution_count": 97,
   "id": "db66da75-9110-47f7-8745-dae74f2b30bf",
   "metadata": {},
   "outputs": [],
   "source": [
    "import librosa\n",
    "sr = 112000\n",
    "def get_log_melspectrogram(audio, sr = sr, hop_length = 1120, win_length = 4480, n_fft = 4480, n_mels = 70, fmin = 0, fmax = 56000):\n",
    "    \"\"\"Return the log-scaled Mel bands of an audio signal.\"\"\"\n",
    "    audio_2 = librosa.util.normalize(audio)\n",
    "    bands = librosa.feature.melspectrogram(\n",
    "        y=audio_2, sr=sr, hop_length=hop_length, win_length = win_length, n_fft=n_fft, n_mels=n_mels)\n",
    "    return librosa.core.power_to_db(bands)"
   ]
  },
  {
   "cell_type": "code",
   "execution_count": 105,
   "id": "c6605dc8-c00d-4660-9492-e4dd5f92f8fc",
   "metadata": {},
   "outputs": [],
   "source": [
    "for i, a in enumerate(train_samples):\n",
    "    M = get_log_melspectrogram(a).T\n",
    "    np.save(\"custom_data/train_data/ex-\" + str(i) + \".npy\", M)"
   ]
  },
  {
   "cell_type": "code",
   "execution_count": 106,
   "id": "27a34019-3ad1-4e56-8855-1f9462243a33",
   "metadata": {},
   "outputs": [],
   "source": [
    "for i, a in enumerate(train_labels):\n",
    "    np.save(\"custom_data/train_data/label-\" + str(i) + \".npy\", a)"
   ]
  },
  {
   "cell_type": "code",
   "execution_count": null,
   "id": "c58e9480-7992-4a7f-872c-7832a6aeb265",
   "metadata": {},
   "outputs": [],
   "source": []
  },
  {
   "cell_type": "code",
   "execution_count": 107,
   "id": "4bb20699-9961-4503-bf47-1c8e3eaa2ac0",
   "metadata": {},
   "outputs": [],
   "source": [
    "import re\n",
    "\n",
    "def tryint(s):\n",
    "    try:\n",
    "        return int(s)\n",
    "    except ValueError:\n",
    "        return s\n",
    "    \n",
    "def alphanum_key(s):\n",
    "    \"\"\" Turn a string into a list of string and number chunks.\n",
    "        \"z23a\" -> [\"z\", 23, \"a\"]\n",
    "    \"\"\"\n",
    "    return [ tryint(c) for c in re.split('([0-9]+)', s) ]\n",
    "\n",
    "def sort_nicely(l):\n",
    "    \"\"\" Sort the given list in the way that humans expect.\n",
    "    \"\"\"\n",
    "    l.sort(key=alphanum_key)"
   ]
  },
  {
   "cell_type": "code",
   "execution_count": 108,
   "id": "d1dbb1ea-22e3-4e31-a273-b1e58b105e89",
   "metadata": {},
   "outputs": [],
   "source": [
    "import glob\n",
    "import random\n",
    "\"\"\"\n",
    "Load the individual numpy arrays into partition\n",
    "\"\"\"\n",
    "data = glob.glob(\"custom_data/train_data/ex-*.npy\")  \n",
    "sort_nicely(data)\n",
    "\n",
    "labels = glob.glob(\"custom_data/train_data/label-*.npy\") \n",
    "sort_nicely(labels)\n",
    "\n",
    "train_examples = [(data[i], labels[i]) for i in range(len(data))]\n",
    "\n",
    "random.seed(4)\n",
    "random.shuffle(train_examples)"
   ]
  },
  {
   "cell_type": "code",
   "execution_count": 109,
   "id": "bfc61ed3-adb6-4b0f-beeb-a31bd8eaa417",
   "metadata": {},
   "outputs": [
    {
     "data": {
      "text/plain": [
       "511"
      ]
     },
     "execution_count": 109,
     "metadata": {},
     "output_type": "execute_result"
    }
   ],
   "source": [
    "len(train_examples)"
   ]
  },
  {
   "cell_type": "code",
   "execution_count": 110,
   "id": "ac4434db-4246-4ef5-9124-ed768e678109",
   "metadata": {},
   "outputs": [
    {
     "data": {
      "text/plain": [
       "('custom_data/train_data/ex-233.npy', 'custom_data/train_data/label-233.npy')"
      ]
     },
     "execution_count": 110,
     "metadata": {},
     "output_type": "execute_result"
    }
   ],
   "source": [
    "train_examples[0]"
   ]
  },
  {
   "cell_type": "code",
   "execution_count": 111,
   "id": "9f32df53-f771-4291-91f9-4f9ccdceb3b2",
   "metadata": {},
   "outputs": [],
   "source": [
    "import torch\n",
    "from torch.utils.data import Dataset, DataLoader"
   ]
  },
  {
   "cell_type": "code",
   "execution_count": 112,
   "id": "4069c24b-73d3-4591-978b-e4f11fb807e9",
   "metadata": {},
   "outputs": [],
   "source": [
    "class SedDataset(Dataset):\n",
    "    \n",
    "    def __init__(self, train_examples, sr=sr):\n",
    "        self.train_examples = train_examples\n",
    "        self.sr = sr\n",
    "        \n",
    "    def __len__(self):\n",
    "        return len(self.train_examples)\n",
    "    \n",
    "    def __getitem__(self, idx):\n",
    "        \n",
    "        X = np.load(self.train_examples[idx][0])\n",
    "        y = np.load(self.train_examples[idx][1])\n",
    "        \n",
    "        return torch.from_numpy(X), torch.from_numpy(y)"
   ]
  },
  {
   "cell_type": "code",
   "execution_count": 113,
   "id": "2762a98b-e6f2-45ae-ad87-92518911ca57",
   "metadata": {},
   "outputs": [],
   "source": [
    "dataset = SedDataset(train_examples)"
   ]
  },
  {
   "cell_type": "code",
   "execution_count": 114,
   "id": "c14587bd-b192-4e66-87ef-eca50fe9daaa",
   "metadata": {},
   "outputs": [],
   "source": [
    "dataloader = DataLoader(dataset, batch_size=32,\n",
    "                        shuffle=True, num_workers=0)"
   ]
  },
  {
   "cell_type": "code",
   "execution_count": 115,
   "id": "c9d30dc7-4091-4452-b202-569a21b11976",
   "metadata": {},
   "outputs": [
    {
     "name": "stdout",
     "output_type": "stream",
     "text": [
      "torch.Size([32, 257, 70]) torch.Size([32, 9, 6])\n",
      "tensor(206.1523, dtype=torch.float64)\n",
      "torch.Size([32, 257, 70]) torch.Size([32, 9, 6])\n",
      "tensor(205.9555, dtype=torch.float64)\n",
      "torch.Size([32, 257, 70]) torch.Size([32, 9, 6])\n",
      "tensor(187.4926, dtype=torch.float64)\n",
      "torch.Size([32, 257, 70]) torch.Size([32, 9, 6])\n",
      "tensor(162.4625, dtype=torch.float64)\n",
      "torch.Size([32, 257, 70]) torch.Size([32, 9, 6])\n",
      "tensor(199.9730, dtype=torch.float64)\n",
      "torch.Size([32, 257, 70]) torch.Size([32, 9, 6])\n",
      "tensor(178.0469, dtype=torch.float64)\n",
      "torch.Size([32, 257, 70]) torch.Size([32, 9, 6])\n",
      "tensor(176.5480, dtype=torch.float64)\n",
      "torch.Size([32, 257, 70]) torch.Size([32, 9, 6])\n",
      "tensor(185.0996, dtype=torch.float64)\n"
     ]
    }
   ],
   "source": [
    "for i, (X1, y1) in enumerate(dataloader):\n",
    "    print(X1.shape, y1.shape)\n",
    "    print(torch.sum(y1[:,:,3:]))\n",
    "    if i>6:\n",
    "        break"
   ]
  },
  {
   "cell_type": "markdown",
   "id": "aaf247c8-10b4-44ac-b9ff-576736b369c8",
   "metadata": {},
   "source": [
    "### Create NN"
   ]
  },
  {
   "cell_type": "code",
   "execution_count": 117,
   "id": "2c458eaf-fe7f-4f25-8650-94a88bfbb6dd",
   "metadata": {},
   "outputs": [],
   "source": [
    "def binary_yoho_loss(y_true, y_pred):\n",
    "    \"\"\"\n",
    "    my custom loss for yoho task\n",
    "    \"\"\"\n",
    "    \n",
    "    squared_difference = torch.square(y_true - y_pred) #[batch, 9, 12]\n",
    "    #print(squared_difference.shape)\n",
    "    ss_True = squared_difference[:, :, 0] * 0 + 1 #[batch, 9] of ones\n",
    "    ss_0 = y_true[:, :, 0] #[batch, 9]\n",
    "    ss_1 = y_true[:, :, 3]\n",
    "    \n",
    "    sss = torch.stack((ss_True, ss_0, ss_0,\n",
    "                  ss_True, ss_1, ss_1), axis = 2)\n",
    "    \n",
    "    squared_difference =  torch.multiply(squared_difference, sss)\n",
    "    return torch.mean(squared_difference)"
   ]
  },
  {
   "cell_type": "code",
   "execution_count": 123,
   "id": "c1e1c06a-5eea-44f9-a381-ecb653309b43",
   "metadata": {},
   "outputs": [],
   "source": [
    "class DepthwiseSeparableConv2D(nn.Module):\n",
    "    def __init__(self, nin, nout, kernel_size=3, stride = 1, padding=0):\n",
    "        super(DepthwiseSeparableConv2D, self).__init__()\n",
    "        self.depthwise = nn.Conv2d(nin, nin, kernel_size=kernel_size, stride=stride,padding=padding)\n",
    "        self.pointwise = nn.Conv2d(nin, nout, kernel_size=1)\n",
    "\n",
    "    def forward(self, x):\n",
    "        out = self.depthwise(x)\n",
    "        out = self.pointwise(out)\n",
    "        return out"
   ]
  },
  {
   "cell_type": "code",
   "execution_count": 119,
   "id": "e8435108-ac8f-4c49-a254-70abd0232b72",
   "metadata": {},
   "outputs": [],
   "source": [
    "class Reshape(nn.Module):\n",
    "    def __init__(self, args):\n",
    "        super(Reshape, self).__init__()\n",
    "        self.my_shape = args\n",
    "\n",
    "    def forward(self, x):\n",
    "        return x.view(*self.my_shape)"
   ]
  },
  {
   "cell_type": "code",
   "execution_count": 124,
   "id": "22219ace-3e4c-4716-83d7-0eaa871be215",
   "metadata": {},
   "outputs": [],
   "source": [
    "model = nn.Sequential(\n",
    "            nn.Conv2d(1, 32, 3, 2),\n",
    "            nn.ReLU(),\n",
    "#            nn.Conv2d(32, 32, kernel_size=3),\n",
    "#            nn.Conv2d(32, 64, kernel_size=1),\n",
    "            DepthwiseSeparableConv2D(32, 64, 3),\n",
    "            nn.BatchNorm2d(64),\n",
    "            nn.ReLU(),\n",
    "#            nn.Conv2d(64, 64, kernel_size=3, stride = 2),\n",
    "#            nn.Conv2d(64, 128, kernel_size=1),\n",
    "            DepthwiseSeparableConv2D(64, 128, 3, stride=2),\n",
    "            nn.BatchNorm2d(128),\n",
    "            nn.ReLU(),\n",
    "#            nn.Conv2d(128, 128, kernel_size=3),\n",
    "#            nn.Conv2d(128, 256, kernel_size=1),\n",
    "            DepthwiseSeparableConv2D(128, 256, 3),\n",
    "            nn.BatchNorm2d(256),\n",
    "            nn.ReLU(),\n",
    "#            nn.Conv2d(256, 256, kernel_size=3, stride = 2),\n",
    "#            nn.Conv2d(256, 512, kernel_size=1),\n",
    "            DepthwiseSeparableConv2D(256, 512, 3, stride=2),\n",
    "            nn.BatchNorm2d(512),\n",
    "            nn.ReLU(),\n",
    "#            nn.Conv2d(512, 512, kernel_size=3),\n",
    "#            nn.Conv2d(512, 1024, kernel_size=1),\n",
    "            DepthwiseSeparableConv2D(512, 1024, 3),\n",
    "            nn.BatchNorm2d(1024),\n",
    "            nn.ReLU(),\n",
    "#            nn.Conv2d(1024, 1024, kernel_size=3, padding = 1),\n",
    "#           nn.Conv2d(1024, 512, kernel_size=1),\n",
    "            DepthwiseSeparableConv2D(1024, 512, 3, padding = 1),\n",
    "            nn.BatchNorm2d(512),\n",
    "            nn.ReLU(),\n",
    "#            nn.Conv2d(512, 512, kernel_size=3, padding = 1),\n",
    "#            nn.Conv2d(512, 256, kernel_size=1),\n",
    "            DepthwiseSeparableConv2D(512, 256, 3, padding = 1),\n",
    "            nn.BatchNorm2d(256),\n",
    "            nn.ReLU(),\n",
    "#            nn.Conv2d(256, 256, kernel_size=3, padding = 1),\n",
    "#            nn.Conv2d(256, 128, kernel_size=1),\n",
    "            DepthwiseSeparableConv2D(256, 128, 3, padding = 1),\n",
    "            nn.BatchNorm2d(128),\n",
    "            nn.ReLU(),\n",
    "            Reshape((-1, 512, 27)), \n",
    "            nn.Conv1d(512, 128, kernel_size=7),\n",
    "            nn.ReLU(),\n",
    "            nn.Conv1d(128, 64, kernel_size=7),\n",
    "            nn.ReLU(),\n",
    "            nn.Conv1d(64, 32, kernel_size=4),\n",
    "            nn.ReLU(),\n",
    "            nn.Conv1d(32, 16, kernel_size=4),\n",
    "            nn.ReLU(),\n",
    "            nn.Conv1d(16, 9, kernel_size=4)\n",
    "            )"
   ]
  },
  {
   "cell_type": "code",
   "execution_count": 125,
   "id": "8022e16b-5626-4d59-9ea4-4b540a86b17b",
   "metadata": {},
   "outputs": [
    {
     "name": "stdout",
     "output_type": "stream",
     "text": [
      "torch.Size([32, 257, 70])\n",
      "torch.Size([32, 9, 6])\n"
     ]
    }
   ],
   "source": [
    "for x, y in dataloader:\n",
    "    print(x.shape)\n",
    "    i = x.reshape([-1, 1, 257, 70]).float()\n",
    "    i = model(i)\n",
    "    print(i.shape)\n",
    "    break"
   ]
  },
  {
   "cell_type": "code",
   "execution_count": null,
   "id": "d902464b-c2e0-498a-ae63-a744774a0e6c",
   "metadata": {},
   "outputs": [],
   "source": []
  },
  {
   "cell_type": "code",
   "execution_count": 126,
   "id": "736e58bd-2376-4dd7-8e39-0beab2e136d5",
   "metadata": {},
   "outputs": [],
   "source": [
    "def train(train_files, val_files, model, epochs, batch_size):\n",
    "    train_loader = DataLoader(train_files, batch_size=batch_size, shuffle=True)\n",
    "    val_loader = DataLoader(val_files, batch_size=batch_size, shuffle=False)\n",
    "    \n",
    "    optimizer = torch.optim.Adam(model.parameters(), lr=0.001)\n",
    "    \n",
    "    model.to(device)\n",
    "    training_loss = []\n",
    "    val_loss = [] \n",
    "    for epoch in range(epochs):  # loop over the dataset multiple times\n",
    "        running_loss = 0.0\n",
    "\n",
    "        for i, (X, y) in enumerate(train_loader, 0):\n",
    "            model.train()\n",
    "\n",
    "            # get the inputs\n",
    "            images = X.to(device).float()\n",
    "            labels = y.to(device).float()\n",
    "\n",
    "            # zero the parameter gradients\n",
    "            optimizer.zero_grad()\n",
    "            # predict classes using images from the training set\n",
    "            outputs = model(images.reshape([-1, 1, 257, 70]))\n",
    "            # compute the loss based on model output and real labels\n",
    "            loss = binary_yoho_loss(labels, outputs)\n",
    "            # backpropagate the loss\n",
    "            loss.backward()\n",
    "            # adjust parameters based on the calculated gradients\n",
    "            optimizer.step()\n",
    "            \n",
    "            running_loss += loss.cpu().detach().numpy()/batch_size\n",
    "            \n",
    "        training_loss.append(running_loss)    # extract the loss value\n",
    "\n",
    " \n",
    "        val_running = 0.0\n",
    "        for i, (X, y) in enumerate(val_loader, 0):\n",
    "            model.eval()\n",
    "\n",
    "            val_images = X.to(device).float()\n",
    "            val_labels = y.to(device).float()\n",
    "\n",
    "            out = model(val_images.reshape([-1, 1, 257, 70]))\n",
    "            \n",
    "            val_running += binary_yoho_loss(val_labels, out).cpu().detach().numpy()/batch_size\n",
    "            \n",
    "        val_loss.append(val_running)\n",
    "        \n",
    "       # clear_output(wait=True)\n",
    "       # plt.plot(running_loss, label='train_loss')\n",
    "       # plt.plot(val_loss,label='val_loss')\n",
    "       # plt.legend()\n",
    "       # plt.show\n",
    "    \n",
    "    return training_loss, val_loss"
   ]
  },
  {
   "cell_type": "code",
   "execution_count": 127,
   "id": "ab94e80d-d986-45b0-9198-e70cf7f28975",
   "metadata": {},
   "outputs": [
    {
     "data": {
      "text/plain": [
       "device(type='cuda')"
      ]
     },
     "execution_count": 127,
     "metadata": {},
     "output_type": "execute_result"
    }
   ],
   "source": [
    "device = torch.device(\"cuda\")\n",
    "device"
   ]
  },
  {
   "cell_type": "code",
   "execution_count": 128,
   "id": "7b2d4b96-eb3c-4602-801e-ad3ecb482674",
   "metadata": {},
   "outputs": [],
   "source": [
    "train_files, val_files = train_test_split(dataset, test_size=0.15)"
   ]
  },
  {
   "cell_type": "code",
   "execution_count": null,
   "id": "0ba7875e-7352-41bc-b278-49d8975ae0b1",
   "metadata": {},
   "outputs": [],
   "source": [
    "train_loss, val_loss = train(train_files, val_files, model, 60, 32)"
   ]
  },
  {
   "cell_type": "code",
   "execution_count": null,
   "id": "cabea59c-2a44-4dee-9230-4035def2a929",
   "metadata": {},
   "outputs": [],
   "source": [
    "plt.plot(train_loss[5:], label='train_loss')\n",
    "plt.plot(val_loss[5:],label='val_loss')\n",
    "plt.legend()\n",
    "plt.show"
   ]
  },
  {
   "cell_type": "code",
   "execution_count": null,
   "id": "146931c9-f36e-428f-bbcf-16e152b59415",
   "metadata": {},
   "outputs": [],
   "source": []
  },
  {
   "cell_type": "code",
   "execution_count": null,
   "id": "c947bb1f-50ef-4506-88f3-9e6f86f76812",
   "metadata": {},
   "outputs": [],
   "source": []
  },
  {
   "cell_type": "code",
   "execution_count": null,
   "id": "d2874c42-a5fd-4792-ba40-593bfec48b84",
   "metadata": {},
   "outputs": [],
   "source": []
  },
  {
   "cell_type": "code",
   "execution_count": null,
   "id": "255fa275-f105-4c03-853d-bd584492dccd",
   "metadata": {},
   "outputs": [],
   "source": []
  },
  {
   "cell_type": "code",
   "execution_count": null,
   "id": "51c1cb53-4e7f-4b0a-976a-7d2ab61be6f1",
   "metadata": {},
   "outputs": [],
   "source": []
  },
  {
   "cell_type": "code",
   "execution_count": null,
   "id": "4aba38e4-10fb-4647-913f-30c4fbe164d9",
   "metadata": {},
   "outputs": [],
   "source": []
  }
 ],
 "metadata": {
  "kernelspec": {
   "display_name": "Python 3 (ipykernel)",
   "language": "python",
   "name": "python3"
  },
  "language_info": {
   "codemirror_mode": {
    "name": "ipython",
    "version": 3
   },
   "file_extension": ".py",
   "mimetype": "text/x-python",
   "name": "python",
   "nbconvert_exporter": "python",
   "pygments_lexer": "ipython3",
   "version": "3.10.6"
  }
 },
 "nbformat": 4,
 "nbformat_minor": 5
}
